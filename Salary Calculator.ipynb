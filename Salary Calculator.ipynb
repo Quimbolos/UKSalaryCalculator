{
 "cells": [
  {
   "cell_type": "code",
   "execution_count": 1,
   "id": "a1f0af09",
   "metadata": {},
   "outputs": [],
   "source": [
    "Yearly_Salary =50000 # Pounds\n",
    "\n",
    "\n",
    "Tax_Free_Limit = 12570 # Pounds\n",
    "\n",
    "Basic_Tax_Limit = 50270 # Pounds\n",
    "\n",
    "High_Tax_Limit = 150000 # Pounds\n",
    "\n",
    "\n",
    "Basic_Tax_Rate = 0.20 # Percentage\n",
    "\n",
    "High_Tax_Rate = 0.40 # Percentage\n",
    "\n",
    "Additional_Tax_Rate = 0.45 # Percentage\n",
    "\n",
    "\n",
    "Free_National_Insurance_Limit = 12576 # Pounds\n",
    "\n",
    "Basic_National_Insurance_Limit = 50268 # Pounds\n",
    "\n",
    "\n",
    "Basic_National_Insurance_Rate = 0.1325 # Percentage\n",
    "\n",
    "High_National_Insurance_Rate = 0.0325 # Percentage\n",
    "\n",
    "\n",
    "Plan_4_Monthly_Limit = 2274 # Pounds\n",
    "\n",
    "Plan_4_Monthly_Rate = 0.09 # Percentage\n",
    "\n",
    "\n",
    "Pension_Contrib_Rate = 0.04 # Percentage\n",
    "\n",
    "\n",
    "\n",
    "if Yearly_Salary < Tax_Free_Limit:\n",
    "    \n",
    "    Tax = 0\n",
    "    National_Insurance = 0\n",
    "    Student_Loan = 0\n",
    "    Pension_Contrib = (Yearly_Salary/12)*Pension_Contrib_Rate\n",
    "    Monthly_Salary = (Yearly_Salary/12) - Tax - National_Insurance - Student_Loan - Pension_Contrib\n",
    "    \n",
    "\n",
    "if Yearly_Salary >= Tax_Free_Limit and Yearly_Salary <= Basic_Tax_Limit :\n",
    "    \n",
    "    Tax = ((Yearly_Salary - Tax_Free_Limit)*Basic_Tax_Rate)/12\n",
    "    National_Insurance = ((Yearly_Salary - Free_National_Insurance_Limit)*Basic_National_Insurance_Rate)/12\n",
    "    Student_Loan = ((Yearly_Salary/12)-Plan_4_Monthly_Limit)*Plan_4_Monthly_Rate\n",
    "    Pension_Contrib = (Yearly_Salary/12)*Pension_Contrib_Rate\n",
    "    Monthly_Salary = (Yearly_Salary/12) - Tax - National_Insurance - Student_Loan - Pension_Contrib\n",
    "    \n",
    "    if Student_Loan < 0:\n",
    "        Student_Loan = 0\n",
    "        \n",
    "        \n",
    "if Yearly_Salary >= Basic_Tax_Limit and Yearly_Salary <= High_Tax_Limit :\n",
    "    \n",
    "    High_Band = (Yearly_Salary - Basic_Tax_Limit)\n",
    "    Tax = ((High_Band*High_Tax_Rate)/12) + (((Yearly_Salary - High_Band - Tax_Free_Limit)*Basic_Tax_Rate)/12)\n",
    "    NI_High_Band = (Yearly_Salary - Basic_National_Insurance_Limit)\n",
    "    National_Insurance = ((NI_High_Band*High_National_Insurance_Rate)/12) + (((Yearly_Salary - NI_High_Band - Free_National_Insurance_Limit)*Basic_National_Insurance_Rate)/12)\n",
    "    Student_Loan = ((Yearly_Salary/12)-Plan_4_Monthly_Limit)*Plan_4_Monthly_Rate\n",
    "    Pension_Contrib = (Yearly_Salary/12)*Pension_Contrib_Rate\n",
    "    Monthly_Salary = (Yearly_Salary/12) - Tax - National_Insurance - Student_Loan - Pension_Contrib\n",
    "\n"
   ]
  },
  {
   "cell_type": "code",
   "execution_count": 2,
   "id": "2a99b69a",
   "metadata": {},
   "outputs": [
    {
     "name": "stdout",
     "output_type": "stream",
     "text": [
      "Total Pay: 3484.7533333333336\n",
      "Tax: 487.4506666666667\n",
      "National Insurance: 322.8698166666667\n",
      "Student Loan: 108.96780000000001\n",
      "Pension Contribution: 139.39013333333335\n",
      "Net Salary: 2426.074916666667\n"
     ]
    }
   ],
   "source": [
    "print(\"Total Pay:\",Yearly_Salary/12)\n",
    "print(\"Tax:\",Tax)\n",
    "print('National Insurance:',National_Insurance)\n",
    "print('Student Loan:',Student_Loan)\n",
    "print('Pension Contribution:',Pension_Contrib)\n",
    "print('Net Salary:',Monthly_Salary)"
   ]
  },
  {
   "cell_type": "markdown",
   "id": "4da22dec",
   "metadata": {},
   "source": []
  }
 ],
 "metadata": {
  "kernelspec": {
   "display_name": "Python 3.9.12 ('base')",
   "language": "python",
   "name": "python3"
  },
  "language_info": {
   "codemirror_mode": {
    "name": "ipython",
    "version": 3
   },
   "file_extension": ".py",
   "mimetype": "text/x-python",
   "name": "python",
   "nbconvert_exporter": "python",
   "pygments_lexer": "ipython3",
   "version": "3.9.12"
  },
  "vscode": {
   "interpreter": {
    "hash": "889365eca841161988be240eef5921557459523a9812a683570a96162223f162"
   }
  }
 },
 "nbformat": 4,
 "nbformat_minor": 5
}
